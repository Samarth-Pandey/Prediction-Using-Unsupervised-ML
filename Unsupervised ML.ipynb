{
 "cells": [
  {
   "cell_type": "markdown",
   "metadata": {
    "id": "7C1URD2qu3xU"
   },
   "source": [
    "## Task-2: To Explore Unsupervised Machine Learning\n",
    "AUTHOR - SAMARTH PANDEY\n",
    "\n",
    "TSF TASK#2"
   ]
  },
  {
   "cell_type": "markdown",
   "metadata": {
    "id": "Y3MLSNjgu3xd"
   },
   "source": [
    "<h2>Importing libraries:</h2>"
   ]
  },
  {
   "cell_type": "code",
   "execution_count": null,
   "metadata": {
    "id": "Rs4xqiTZu3xf"
   },
   "outputs": [],
   "source": [
    "from sklearn.cluster import KMeans\n",
    "import pandas as pd\n",
    "import seaborn as sns\n",
    "from matplotlib import pyplot as plt\n",
    "%matplotlib inline"
   ]
  },
  {
   "cell_type": "markdown",
   "metadata": {
    "id": "fsXLwgvuu3xl"
   },
   "source": [
    "### Load the iris dataset"
   ]
  },
  {
   "cell_type": "code",
   "execution_count": null,
   "metadata": {
    "id": "pMa2Z6XKu3xm"
   },
   "outputs": [],
   "source": [
    "df=pd.read_csv('Iris.csv')\n",
    "df.drop(['Id'],axis=1,inplace=True)"
   ]
  },
  {
   "cell_type": "markdown",
   "metadata": {
    "id": "OepUVYP-u3xq"
   },
   "source": [
    "### Reading the dataset"
   ]
  },
  {
   "cell_type": "code",
   "execution_count": null,
   "metadata": {
    "id": "nrGfLwLku3xq",
    "outputId": "e082535f-5cd7-47ca-9f15-d94152c69a7a"
   },
   "outputs": [],
   "source": [
    "df.head() #diplay the fisrt 5 dataset."
   ]
  },
  {
   "cell_type": "code",
   "execution_count": null,
   "metadata": {
    "id": "tiPSHpEGu3xu",
    "outputId": "24e6ed71-6727-4073-dccc-33bfd4380ce5"
   },
   "outputs": [],
   "source": [
    "df.shape"
   ]
  },
  {
   "cell_type": "code",
   "execution_count": null,
   "metadata": {
    "id": "1M8__nIFu3xx",
    "outputId": "d16a3e05-69b5-41a3-963f-d934fba77d92"
   },
   "outputs": [],
   "source": [
    "df.info()"
   ]
  },
  {
   "cell_type": "code",
   "execution_count": null,
   "metadata": {
    "id": "upRB_8tku3xz",
    "outputId": "3983347d-930c-44dd-d5d1-c70da07f02f6"
   },
   "outputs": [],
   "source": [
    "df.describe()"
   ]
  },
  {
   "cell_type": "code",
   "execution_count": null,
   "metadata": {
    "id": "SBIyQEv0u3x2",
    "outputId": "b5edf46a-fcea-4839-da98-855ff6f3997f"
   },
   "outputs": [],
   "source": [
    "df.isnull().sum()"
   ]
  },
  {
   "cell_type": "code",
   "execution_count": null,
   "metadata": {
    "id": "gF6QR4Cau3x5"
   },
   "outputs": [],
   "source": [
    "df.drop_duplicates(inplace=True)"
   ]
  },
  {
   "cell_type": "markdown",
   "metadata": {
    "id": "UZCCacReu3x7"
   },
   "source": [
    "### Label Encoding"
   ]
  },
  {
   "cell_type": "code",
   "execution_count": null,
   "metadata": {
    "id": "oHGBylgUu3x8",
    "outputId": "e8820a79-0f89-4d71-af67-3e71a1e24713"
   },
   "outputs": [],
   "source": [
    "from sklearn.preprocessing import LabelEncoder\n",
    "le=LabelEncoder()\n",
    "df['Species']=le.fit_transform(df['Species'])\n",
    "df['Species'].value_counts()"
   ]
  },
  {
   "cell_type": "markdown",
   "metadata": {
    "id": "b8e6GxoKu3x-"
   },
   "source": [
    "### PetalLengthCm vs PetalWidthCm \n",
    ">*we'll compare our final plot with this graph to check how accurate our model is*"
   ]
  },
  {
   "cell_type": "code",
   "execution_count": null,
   "metadata": {
    "id": "NRmFl5G_u3x-",
    "outputId": "37559ca4-1929-4e83-ee51-e8cb03563d02"
   },
   "outputs": [],
   "source": [
    "plt.scatter(df['PetalLengthCm'],df['PetalWidthCm'],c=df.Species.values)"
   ]
  },
  {
   "cell_type": "code",
   "execution_count": null,
   "metadata": {
    "id": "_XcYyRGQu3yB",
    "outputId": "6d26aef8-2265-45b1-aa50-b30cc27c0edb"
   },
   "outputs": [],
   "source": [
    "df.corr()"
   ]
  },
  {
   "cell_type": "markdown",
   "metadata": {
    "id": "eUct3Kmiu3yD"
   },
   "source": [
    "### Data Visualization"
   ]
  },
  {
   "cell_type": "code",
   "execution_count": null,
   "metadata": {
    "id": "IPaotKG4u3yD",
    "outputId": "b58e88f0-b4ff-4b51-8bda-2684c33315b0"
   },
   "outputs": [],
   "source": [
    "fig=plt.figure(figsize=(15,12))\n",
    "sns.heatmap(df.corr(),linewidths=1,annot=True)"
   ]
  },
  {
   "cell_type": "code",
   "execution_count": null,
   "metadata": {
    "id": "7FUMarWDu3yF",
    "outputId": "2475ee56-aa0b-4288-de0c-e8b2f666db68"
   },
   "outputs": [],
   "source": [
    "sns.pairplot(df)\n"
   ]
  },
  {
   "cell_type": "markdown",
   "metadata": {
    "id": "df83ww2Pu3yH"
   },
   "source": [
    ">We can see that Species is mainly depend on Petal Length and Petal Width."
   ]
  },
  {
   "cell_type": "markdown",
   "metadata": {
    "id": "3ZJ7DfWAu3yH"
   },
   "source": [
    ">using petal_length and petal_width\n"
   ]
  },
  {
   "cell_type": "code",
   "execution_count": null,
   "metadata": {
    "id": "DBd0oYAFu3yI"
   },
   "outputs": [],
   "source": [
    "df=df.iloc[:,[0,1,2,3]].values"
   ]
  },
  {
   "cell_type": "markdown",
   "metadata": {
    "id": "poq-X9_fu3yK"
   },
   "source": [
    "### Elbow Method using within-cluster-sum-of-squares(wcss) "
   ]
  },
  {
   "cell_type": "code",
   "execution_count": null,
   "metadata": {
    "id": "EFYsQ3Bxu3yL",
    "outputId": "e3a0bb4a-72be-40e1-81a9-42159a2ca958"
   },
   "outputs": [],
   "source": [
    "from sklearn.cluster import KMeans\n",
    "wcss = []\n",
    "for i in range(1, 11):\n",
    "    kmeans = KMeans(n_clusters = i, init = 'k-means++', random_state = 42)\n",
    "    kmeans.fit(df)\n",
    "    # inertia method returns wcss for that model\n",
    "    wcss.append(kmeans.inertia_)\n",
    "    \n",
    "wcss"
   ]
  },
  {
   "cell_type": "markdown",
   "metadata": {
    "id": "E9DVlDw1u3yO"
   },
   "source": [
    "### Using Elbow graph to find optimum no. of Clusters"
   ]
  },
  {
   "cell_type": "code",
   "execution_count": null,
   "metadata": {
    "id": "FpUxiK-Ku3yP",
    "outputId": "73fa01e2-e861-4838-bbe3-a77514d6900f"
   },
   "outputs": [],
   "source": [
    "plt.figure(figsize=(10,5))\n",
    "sns.set(style='whitegrid')\n",
    "sns.lineplot(range(1, 11), wcss,marker='o',color='red')\n",
    "plt.title('The Elbow Method')\n",
    "plt.xlabel('Number of clusters')\n",
    "plt.ylabel('WCSS')\n",
    "plt.show()\n"
   ]
  },
  {
   "cell_type": "markdown",
   "metadata": {
    "id": "zqG4hVs3u3yR"
   },
   "source": [
    ">The optimum value for K would be 3. As we can see that with an increase in the number of clusters the WCSS value decreases. We select the value for K on the basis of the rate of decrease in WCSS and we can see that after 3 the drop in wcss is minimal."
   ]
  },
  {
   "cell_type": "markdown",
   "metadata": {
    "id": "OmHkqhAZu3yR"
   },
   "source": [
    "### Initialization using K-means++"
   ]
  },
  {
   "cell_type": "code",
   "execution_count": null,
   "metadata": {
    "id": "kuEZLSreu3yR",
    "outputId": "179af9b2-0a7c-4996-c5e7-98176e7aca1f"
   },
   "outputs": [],
   "source": [
    "kmeans = KMeans(n_clusters = 3, init = 'k-means++', random_state = 5)\n",
    "y_kmeans = kmeans.fit_predict(df)\n",
    "y_kmeans"
   ]
  },
  {
   "cell_type": "markdown",
   "metadata": {
    "id": "Z1Nv0pwzu3yT"
   },
   "source": [
    "### Visualizing the Clusters "
   ]
  },
  {
   "cell_type": "code",
   "execution_count": null,
   "metadata": {
    "id": "0thBMJh1u3yU",
    "outputId": "57e33060-649b-4701-8036-93d1cdf07fdb"
   },
   "outputs": [],
   "source": [
    "fig = plt.figure(figsize=(10, 7))\n",
    "plt.title('Clusters with Centroids',fontweight ='bold', fontsize=20)\n",
    "plt.scatter(df[y_kmeans == 0, 2], df[y_kmeans == 0, 3], s = 100, c = 'seagreen', label = 'Iris-versicolour')\n",
    "plt.scatter(df[y_kmeans == 1, 2], df[y_kmeans == 1, 3], s = 100, c = 'purple', label = 'Iris-setosa')\n",
    "plt.scatter(df[y_kmeans == 2, 2], df[y_kmeans == 2, 3],s = 100, c = 'yellow', label = 'Iris-virginica')\n",
    "plt.scatter(kmeans.cluster_centers_[:, 2], kmeans.cluster_centers_[:,3], s = 300, c = 'red',marker='*', \n",
    "            label = 'Centroids')\n",
    "plt.title('Iris Flower Clusters')\n",
    "plt.ylabel('Petal Width in cm')\n",
    "plt.xlabel('Petal Length in cm')\n",
    "plt.legend()"
   ]
  },
  {
   "cell_type": "markdown",
   "metadata": {
    "id": "BxGF0Y2Tu3yV"
   },
   "source": [
    ">We can see that our predicted graph is quite similar to the actual one."
   ]
  },
  {
   "cell_type": "markdown",
   "metadata": {
    "id": "ngqdkuJUu3yW"
   },
   "source": [
    "<h2>Task-2</h2> <br>\n"
   ]
  },
  {
   "cell_type": "markdown",
   "metadata": {
    "id": "fq-YrIC6u3yW"
   },
   "source": [
    "__Completed__"
   ]
  },
  {
   "cell_type": "markdown",
   "metadata": {
    "id": "5glKoovTu3yW"
   },
   "source": [
    ">Thank You! <br>\n",
    "SAMARTH PANDEY"
   ]
  },
  {
   "cell_type": "code",
   "execution_count": null,
   "metadata": {
    "id": "fbXrfugsu3yX"
   },
   "outputs": [],
   "source": []
  }
 ],
 "metadata": {
  "colab": {
   "include_colab_link": true,
   "name": "TSF Task#3.ipynb",
   "provenance": []
  },
  "kernelspec": {
   "display_name": "Python 3 (ipykernel)",
   "language": "python",
   "name": "python3"
  },
  "language_info": {
   "codemirror_mode": {
    "name": "ipython",
    "version": 3
   },
   "file_extension": ".py",
   "mimetype": "text/x-python",
   "name": "python",
   "nbconvert_exporter": "python",
   "pygments_lexer": "ipython3",
   "version": "3.10.1"
  }
 },
 "nbformat": 4,
 "nbformat_minor": 1
}
